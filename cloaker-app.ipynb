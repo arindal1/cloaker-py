{
 "cells": [
  {
   "cell_type": "markdown",
   "id": "bcd940d0",
   "metadata": {},
   "source": [
    "## Invisible Cloaking App"
   ]
  },
  {
   "cell_type": "code",
   "execution_count": 87,
   "id": "97acfb3a",
   "metadata": {},
   "outputs": [],
   "source": [
    "import cv2\n",
    "import numpy as np\n",
    "import time"
   ]
  },
  {
   "cell_type": "code",
   "execution_count": 88,
   "id": "4c4c0e87",
   "metadata": {},
   "outputs": [],
   "source": [
    "# Function to capture the background image\n",
    "def capture_background(cap, num_frames=60):\n",
    "    for _ in range(num_frames):\n",
    "        ret, frame = cap.read()\n",
    "        if not ret:\n",
    "            continue\n",
    "    return frame"
   ]
  },
  {
   "cell_type": "code",
   "execution_count": 89,
   "id": "c8a0e671",
   "metadata": {},
   "outputs": [],
   "source": [
    "# Function to create a mask for a specific color and include everything within the shape\n",
    "def create_mask(hsv, lower_bound, upper_bound):\n",
    "    mask = cv2.inRange(hsv, lower_bound, upper_bound)\n",
    "    mask = cv2.morphologyEx(mask, cv2.MORPH_OPEN, np.ones((3, 3), np.uint8))\n",
    "    mask = cv2.morphologyEx(mask, cv2.MORPH_DILATE, np.ones((3, 3), np.uint8))\n",
    "\n",
    "    # Find contours and fill them\n",
    "    contours, _ = cv2.findContours(mask, cv2.RETR_EXTERNAL, cv2.CHAIN_APPROX_SIMPLE)\n",
    "    for contour in contours:\n",
    "        cv2.drawContours(mask, [contour], -1, (255), thickness=cv2.FILLED)\n",
    "\n",
    "    return mask, contours"
   ]
  },
  {
   "cell_type": "code",
   "execution_count": 90,
   "id": "c11d31d0",
   "metadata": {},
   "outputs": [],
   "source": [
    "# Function to replace the colored areas with the background\n",
    "def apply_cloaking(frame, background, mask):\n",
    "    mask_inv = cv2.bitwise_not(mask)\n",
    "    background_part = cv2.bitwise_and(background, background, mask=mask)\n",
    "    frame_part = cv2.bitwise_and(frame, frame, mask=mask_inv)\n",
    "    return cv2.addWeighted(background_part, 1, frame_part, 1, 0)"
   ]
  },
  {
   "cell_type": "code",
   "execution_count": 91,
   "id": "ac5bdce1",
   "metadata": {},
   "outputs": [],
   "source": [
    "def main():\n",
    "    # Open the camera\n",
    "    cap = cv2.VideoCapture(0)\n",
    "    \n",
    "    # Inform the user and wait for 5 seconds\n",
    "    print(\"Capturing background in 5 seconds. Please move away from the camera.\")\n",
    "    time.sleep(5)\n",
    "    \n",
    "    # Capture the background image\n",
    "    print(\"Capturing background. Please stand still.\")\n",
    "    background = capture_background(cap)\n",
    "    \n",
    "    # Define the color range for cloaking (strong blue color)\n",
    "    lower_bound = np.array([100, 100, 100])\n",
    "    upper_bound = np.array([140, 255, 255])\n",
    "    \n",
    "    masking_on = True  # Flag to control masking\n",
    "    \n",
    "    print(\"Processing frames. Press 'q' to quit or 'x' to toggle masking.\")\n",
    "    while cap.isOpened():\n",
    "        ret, frame = cap.read()\n",
    "        if not ret:\n",
    "            break\n",
    "        \n",
    "        # Convert the frame to HSV color space\n",
    "        hsv = cv2.cvtColor(frame, cv2.COLOR_BGR2HSV)\n",
    "        \n",
    "        if masking_on:\n",
    "            # Create a mask for the specified color\n",
    "            mask, contours = create_mask(hsv, lower_bound, upper_bound)\n",
    "            \n",
    "            # Apply the cloaking effect\n",
    "            cloaked_frame = apply_cloaking(frame, background, mask)\n",
    "            \n",
    "            # Draw contours of the detected object (optional)\n",
    "            cv2.drawContours(frame, contours, -1, (0, 255, 0), 2)\n",
    "        else:\n",
    "            cloaked_frame = frame\n",
    "        \n",
    "        # Display the result\n",
    "        cv2.imshow('Cloaker', cloaked_frame)\n",
    "        \n",
    "        # Keyboard input handling\n",
    "        key = cv2.waitKey(1) & 0xFF\n",
    "        if key == ord('q'):\n",
    "            break\n",
    "        elif key == ord('x'):\n",
    "            masking_on = not masking_on\n",
    "            if masking_on:\n",
    "                print(\"Masking turned ON\")\n",
    "            else:\n",
    "                print(\"Masking turned OFF\")\n",
    "    \n",
    "    cap.release()\n",
    "    cv2.destroyAllWindows()"
   ]
  },
  {
   "cell_type": "code",
   "execution_count": 93,
   "id": "d2da896a",
   "metadata": {},
   "outputs": [
    {
     "name": "stdout",
     "output_type": "stream",
     "text": [
      "Capturing background in 5 seconds. Please move away from the camera.\n",
      "Capturing background. Please stand still.\n",
      "Processing frames. Press 'q' to quit or 'x' to toggle masking.\n",
      "Masking turned OFF\n",
      "Masking turned ON\n"
     ]
    }
   ],
   "source": [
    "if __name__ == \"__main__\":\n",
    "    main()"
   ]
  },
  {
   "cell_type": "code",
   "execution_count": null,
   "id": "6ef81ac1",
   "metadata": {},
   "outputs": [],
   "source": []
  }
 ],
 "metadata": {
  "kernelspec": {
   "display_name": "Python 3 (ipykernel)",
   "language": "python",
   "name": "python3"
  },
  "language_info": {
   "codemirror_mode": {
    "name": "ipython",
    "version": 3
   },
   "file_extension": ".py",
   "mimetype": "text/x-python",
   "name": "python",
   "nbconvert_exporter": "python",
   "pygments_lexer": "ipython3",
   "version": "3.11.5"
  }
 },
 "nbformat": 4,
 "nbformat_minor": 5
}
